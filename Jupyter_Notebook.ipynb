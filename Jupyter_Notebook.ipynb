{
    "cells": [
        {
            "metadata": {},
            "cell_type": "markdown",
            "source": "<center>\n    <img src=\"https://cf-courses-data.s3.us.cloud-object-storage.appdomain.cloud/IBMDeveloperSkillsNetwork-DS0105EN-SkillsNetwork/labs/Module2/images/SN_web_lightmode.png\" width=\"300\" alt=\"cognitiveclass.ai logo\">\n</center>\n"
        },
        {
            "metadata": {},
            "cell_type": "markdown",
            "source": "#### Add your code below following the instructions given in the course\n"
        },
        {
            "metadata": {},
            "cell_type": "markdown",
            "source": "# Data Science Tools and Ecosystem"
        },
        {
            "metadata": {},
            "cell_type": "markdown",
            "source": "In this notebook, Data Science Tools and Ecosystem are summarized."
        },
        {
            "metadata": {},
            "cell_type": "markdown",
            "source": "**Objectives**: \n- Create a markdown cell with the title of the notebook\n- Create a markdown cell for an introduction.\n- Create a markdown cell to list data science languages.\n- Create a markdown cell to list data science libraries.\n- Create a markdown cell with a table of Data Science tools.\n- Create a markdown cell introducing arithmetic expression examples.\n- Create a code cell to multiply and add numbers.\n- Create a code cell to convert minutes to hours.\n- Insert a markdown cell to list Objectives.\n- Create a markdown cell to indicate the Author\u2019s name.\n- Share your notebook through GitHub\n- Take a screenshot of the first page of the notebook."
        },
        {
            "metadata": {},
            "cell_type": "markdown",
            "source": "Some of the popular languages that Data Scientists use are:\n1. Python\n2. R\n3. SQL\n4. Java\n5. Julia\n6. Scala\n7. C/C++"
        },
        {
            "metadata": {},
            "cell_type": "markdown",
            "source": "Some of the commonly used libraries used by Data Scientists include:\n1. pandas\n2. numpy \n3. scikit learn\n4. TensorFlow\n5. PyTorch\n6. mlpack"
        },
        {
            "metadata": {},
            "cell_type": "markdown",
            "source": "Data science tools:\n\n| Data Science Tools |\n| ----| \n|JupyterLab| \n|RStudio| \n|Spyder|"
        },
        {
            "metadata": {},
            "cell_type": "markdown",
            "source": "### Below are a few examples of evaluating arithmetic expressions in Python"
        },
        {
            "metadata": {},
            "cell_type": "code",
            "source": "# This a simple arithmetic expression to mutiply then add integers\n(3*4)+5 ",
            "execution_count": 5,
            "outputs": [
                {
                    "output_type": "execute_result",
                    "execution_count": 5,
                    "data": {
                        "text/plain": "17"
                    },
                    "metadata": {}
                }
            ]
        },
        {
            "metadata": {},
            "cell_type": "code",
            "source": "# This will convert 200 minutes to hours by diving by 60\nminutes = 200\nhours = minutes // 60\nremaining_min = minutes % 60\ntime = \"{}:{}\".format(hours, remaining_min)\nprint(time)",
            "execution_count": 6,
            "outputs": [
                {
                    "output_type": "stream",
                    "text": "3:20\n",
                    "name": "stdout"
                }
            ]
        },
        {
            "metadata": {},
            "cell_type": "markdown",
            "source": "## Author:\nWasim Tamraz"
        },
        {
            "metadata": {},
            "cell_type": "code",
            "source": "",
            "execution_count": null,
            "outputs": []
        }
    ],
    "metadata": {
        "kernelspec": {
            "name": "python3",
            "display_name": "Python 3.10",
            "language": "python"
        },
        "language_info": {
            "name": "python",
            "version": "3.10.9",
            "mimetype": "text/x-python",
            "codemirror_mode": {
                "name": "ipython",
                "version": 3
            },
            "pygments_lexer": "ipython3",
            "nbconvert_exporter": "python",
            "file_extension": ".py"
        }
    },
    "nbformat": 4,
    "nbformat_minor": 4
}